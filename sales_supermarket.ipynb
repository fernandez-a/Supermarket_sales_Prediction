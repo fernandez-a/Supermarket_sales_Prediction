{
 "cells": [
  {
   "cell_type": "code",
   "execution_count": 55,
   "id": "8b6cd9db",
   "metadata": {},
   "outputs": [],
   "source": [
    "import pandas as pd\n",
    "import numpy as np\n",
    "import random as rnd\n",
    "\n",
    "# visualization\n",
    "import seaborn as sns\n",
    "import matplotlib.pyplot as plt\n",
    "%matplotlib inline\n",
    "\n",
    "from sklearn.preprocessing import OneHotEncoder, LabelEncoder, StandardScaler\n",
    "\n",
    "\n",
    "from sklearn.model_selection import train_test_split, GridSearchCV\n",
    "from sklearn.linear_model import LogisticRegression\n",
    "from sklearn.tree import DecisionTreeClassifier\n",
    "from sklearn.ensemble import RandomForestClassifier\n",
    "from sklearn.svm import SVC\n",
    "from sklearn.metrics import classification_report"
   ]
  },
  {
   "cell_type": "code",
   "execution_count": 56,
   "id": "7de03d67",
   "metadata": {},
   "outputs": [
    {
     "data": {
      "text/plain": [
       "((12000, 10), (3000, 9))"
      ]
     },
     "execution_count": 56,
     "metadata": {},
     "output_type": "execute_result"
    }
   ],
   "source": [
    "test_df = pd.read_csv(\"C:/Users/Alejandro/Downloads/testing_set.csv\",low_memory=False)\n",
    "train_df = pd.read_csv(\"C:/Users/Alejandro/Downloads/training_set.csv\",low_memory=False)\n",
    "\n",
    "train_df.shape,test_df.shape"
   ]
  },
  {
   "cell_type": "code",
   "execution_count": 57,
   "id": "6ac93422",
   "metadata": {},
   "outputs": [
    {
     "name": "stdout",
     "output_type": "stream",
     "text": [
      "<class 'pandas.core.frame.DataFrame'>\n",
      "RangeIndex: 12000 entries, 0 to 11999\n",
      "Data columns (total 10 columns):\n",
      " #   Column          Non-Null Count  Dtype  \n",
      "---  ------          --------------  -----  \n",
      " 0   train_idx       12000 non-null  int64  \n",
      " 1   client_ID       12000 non-null  object \n",
      " 2   gender          12000 non-null  object \n",
      " 3   age             12000 non-null  object \n",
      " 4   martial_status  12000 non-null  object \n",
      " 5   location        12000 non-null  object \n",
      " 6   products_count  12000 non-null  int64  \n",
      " 7   monthly_count   12000 non-null  int64  \n",
      " 8   mean_spending   12000 non-null  float64\n",
      " 9   label           12000 non-null  int64  \n",
      "dtypes: float64(1), int64(4), object(5)\n",
      "memory usage: 937.6+ KB\n"
     ]
    }
   ],
   "source": [
    "train_df.info()"
   ]
  },
  {
   "cell_type": "code",
   "execution_count": 58,
   "id": "38f1058a",
   "metadata": {},
   "outputs": [],
   "source": [
    "train_df = train_df.drop(columns=['train_idx','client_ID'])"
   ]
  },
  {
   "cell_type": "code",
   "execution_count": 59,
   "id": "832b83cf",
   "metadata": {},
   "outputs": [
    {
     "name": "stdout",
     "output_type": "stream",
     "text": [
      "<class 'pandas.core.frame.DataFrame'>\n",
      "RangeIndex: 3000 entries, 0 to 2999\n",
      "Data columns (total 9 columns):\n",
      " #   Column          Non-Null Count  Dtype  \n",
      "---  ------          --------------  -----  \n",
      " 0   test_idx        3000 non-null   int64  \n",
      " 1   client_ID       3000 non-null   object \n",
      " 2   gender          3000 non-null   object \n",
      " 3   age             3000 non-null   object \n",
      " 4   martial_status  3000 non-null   object \n",
      " 5   location        3000 non-null   object \n",
      " 6   products_count  3000 non-null   int64  \n",
      " 7   monthly_count   3000 non-null   int64  \n",
      " 8   mean_spending   3000 non-null   float64\n",
      "dtypes: float64(1), int64(3), object(5)\n",
      "memory usage: 211.1+ KB\n"
     ]
    }
   ],
   "source": [
    "test_df.info()"
   ]
  },
  {
   "cell_type": "code",
   "execution_count": 60,
   "id": "3ebc8c8c",
   "metadata": {},
   "outputs": [],
   "source": [
    "test_df = test_df.drop(columns=['test_idx','client_ID'])"
   ]
  },
  {
   "cell_type": "code",
   "execution_count": 93,
   "id": "5f950ebe",
   "metadata": {},
   "outputs": [
    {
     "data": {
      "text/plain": [
       "array([4, 3, 2, 1, 0], dtype=int64)"
      ]
     },
     "execution_count": 93,
     "metadata": {},
     "output_type": "execute_result"
    }
   ],
   "source": [
    "train_df.label.unique()"
   ]
  },
  {
   "cell_type": "code",
   "execution_count": 62,
   "id": "09468abc",
   "metadata": {},
   "outputs": [
    {
     "data": {
      "text/plain": [
       "Married     5577\n",
       "Single      3486\n",
       "Divorced    2262\n",
       "Widowed      675\n",
       "Name: martial_status, dtype: int64"
      ]
     },
     "execution_count": 62,
     "metadata": {},
     "output_type": "execute_result"
    }
   ],
   "source": [
    "train_df.martial_status.value_counts()"
   ]
  },
  {
   "cell_type": "code",
   "execution_count": 63,
   "id": "022ed491",
   "metadata": {},
   "outputs": [
    {
     "data": {
      "text/plain": [
       "<AxesSubplot:xlabel='martial_status', ylabel='Count'>"
      ]
     },
     "execution_count": 63,
     "metadata": {},
     "output_type": "execute_result"
    },
    {
     "data": {
      "image/png": "[encoded data removed]",
      "text/plain": [
       "<Figure size 432x432 with 1 Axes>"
      ]
     },
     "metadata": {
      "needs_background": "light"
     },
     "output_type": "display_data"
    }
   ],
   "source": [
    "plt.figure(figsize=(6,6))\n",
    "\n",
    "sns.histplot(data=train_df,x=train_df.martial_status)\n"
   ]
  },
  {
   "cell_type": "code",
   "execution_count": 64,
   "id": "bec5992e",
   "metadata": {
    "scrolled": true
   },
   "outputs": [
    {
     "data": {
      "text/plain": [
       "<AxesSubplot:xlabel='age', ylabel='mean_spending'>"
      ]
     },
     "execution_count": 64,
     "metadata": {},
     "output_type": "execute_result"
    },
    {
     "data": {
      "image/png": "[encoded data removed]",
      "text/plain": [
       "<Figure size 720x720 with 1 Axes>"
      ]
     },
     "metadata": {
      "needs_background": "light"
     },
     "output_type": "display_data"
    }
   ],
   "source": [
    "plt.figure(figsize=(10,10))\n",
    "\n",
    "sns.scatterplot(data=train_df,x=\"age\",y='mean_spending',hue='martial_status')"
   ]
  },
  {
   "cell_type": "code",
   "execution_count": 65,
   "id": "7f845512",
   "metadata": {},
   "outputs": [
    {
     "data": {
      "text/html": [
       "<div>\n",
       "<style scoped>\n",
       "    .dataframe tbody tr th:only-of-type {\n",
       "        vertical-align: middle;\n",
       "    }\n",
       "\n",
       "    .dataframe tbody tr th {\n",
       "        vertical-align: top;\n",
       "    }\n",
       "\n",
       "    .dataframe thead th {\n",
       "        text-align: right;\n",
       "    }\n",
       "</style>\n",
       "<table border=\"1\" class=\"dataframe\">\n",
       "  <thead>\n",
       "    <tr style=\"text-align: right;\">\n",
       "      <th></th>\n",
       "      <th>age</th>\n",
       "      <th>martial_status</th>\n",
       "      <th>products_count</th>\n",
       "      <th>monthly_count</th>\n",
       "      <th>mean_spending</th>\n",
       "      <th>gender_F</th>\n",
       "      <th>gender_M</th>\n",
       "      <th>gender_Other</th>\n",
       "      <th>location_City</th>\n",
       "      <th>location_Town</th>\n",
       "    </tr>\n",
       "  </thead>\n",
       "  <tbody>\n",
       "    <tr>\n",
       "      <th>0</th>\n",
       "      <td>8</td>\n",
       "      <td>0</td>\n",
       "      <td>56</td>\n",
       "      <td>2</td>\n",
       "      <td>46.09</td>\n",
       "      <td>0</td>\n",
       "      <td>1</td>\n",
       "      <td>0</td>\n",
       "      <td>1</td>\n",
       "      <td>0</td>\n",
       "    </tr>\n",
       "    <tr>\n",
       "      <th>1</th>\n",
       "      <td>12</td>\n",
       "      <td>0</td>\n",
       "      <td>27</td>\n",
       "      <td>5</td>\n",
       "      <td>10.87</td>\n",
       "      <td>1</td>\n",
       "      <td>0</td>\n",
       "      <td>0</td>\n",
       "      <td>1</td>\n",
       "      <td>0</td>\n",
       "    </tr>\n",
       "    <tr>\n",
       "      <th>2</th>\n",
       "      <td>12</td>\n",
       "      <td>2</td>\n",
       "      <td>79</td>\n",
       "      <td>9</td>\n",
       "      <td>23.97</td>\n",
       "      <td>0</td>\n",
       "      <td>1</td>\n",
       "      <td>0</td>\n",
       "      <td>1</td>\n",
       "      <td>0</td>\n",
       "    </tr>\n",
       "    <tr>\n",
       "      <th>3</th>\n",
       "      <td>7</td>\n",
       "      <td>0</td>\n",
       "      <td>72</td>\n",
       "      <td>6</td>\n",
       "      <td>28.03</td>\n",
       "      <td>1</td>\n",
       "      <td>0</td>\n",
       "      <td>0</td>\n",
       "      <td>1</td>\n",
       "      <td>0</td>\n",
       "    </tr>\n",
       "    <tr>\n",
       "      <th>4</th>\n",
       "      <td>13</td>\n",
       "      <td>1</td>\n",
       "      <td>120</td>\n",
       "      <td>8</td>\n",
       "      <td>35.10</td>\n",
       "      <td>1</td>\n",
       "      <td>0</td>\n",
       "      <td>0</td>\n",
       "      <td>0</td>\n",
       "      <td>1</td>\n",
       "    </tr>\n",
       "    <tr>\n",
       "      <th>...</th>\n",
       "      <td>...</td>\n",
       "      <td>...</td>\n",
       "      <td>...</td>\n",
       "      <td>...</td>\n",
       "      <td>...</td>\n",
       "      <td>...</td>\n",
       "      <td>...</td>\n",
       "      <td>...</td>\n",
       "      <td>...</td>\n",
       "      <td>...</td>\n",
       "    </tr>\n",
       "    <tr>\n",
       "      <th>11995</th>\n",
       "      <td>8</td>\n",
       "      <td>1</td>\n",
       "      <td>164</td>\n",
       "      <td>2</td>\n",
       "      <td>144.33</td>\n",
       "      <td>1</td>\n",
       "      <td>0</td>\n",
       "      <td>0</td>\n",
       "      <td>1</td>\n",
       "      <td>0</td>\n",
       "    </tr>\n",
       "    <tr>\n",
       "      <th>11996</th>\n",
       "      <td>8</td>\n",
       "      <td>0</td>\n",
       "      <td>71</td>\n",
       "      <td>2</td>\n",
       "      <td>42.58</td>\n",
       "      <td>1</td>\n",
       "      <td>0</td>\n",
       "      <td>0</td>\n",
       "      <td>1</td>\n",
       "      <td>0</td>\n",
       "    </tr>\n",
       "    <tr>\n",
       "      <th>11997</th>\n",
       "      <td>1</td>\n",
       "      <td>2</td>\n",
       "      <td>22</td>\n",
       "      <td>6</td>\n",
       "      <td>9.97</td>\n",
       "      <td>0</td>\n",
       "      <td>1</td>\n",
       "      <td>0</td>\n",
       "      <td>1</td>\n",
       "      <td>0</td>\n",
       "    </tr>\n",
       "    <tr>\n",
       "      <th>11998</th>\n",
       "      <td>4</td>\n",
       "      <td>2</td>\n",
       "      <td>38</td>\n",
       "      <td>3</td>\n",
       "      <td>31.47</td>\n",
       "      <td>1</td>\n",
       "      <td>0</td>\n",
       "      <td>0</td>\n",
       "      <td>1</td>\n",
       "      <td>0</td>\n",
       "    </tr>\n",
       "    <tr>\n",
       "      <th>11999</th>\n",
       "      <td>0</td>\n",
       "      <td>2</td>\n",
       "      <td>25</td>\n",
       "      <td>2</td>\n",
       "      <td>19.89</td>\n",
       "      <td>0</td>\n",
       "      <td>0</td>\n",
       "      <td>1</td>\n",
       "      <td>0</td>\n",
       "      <td>1</td>\n",
       "    </tr>\n",
       "  </tbody>\n",
       "</table>\n",
       "<p>12000 rows × 10 columns</p>\n",
       "</div>"
      ],
      "text/plain": [
       "       age  martial_status  products_count  monthly_count  mean_spending  \\\n",
       "0        8               0              56              2          46.09   \n",
       "1       12               0              27              5          10.87   \n",
       "2       12               2              79              9          23.97   \n",
       "3        7               0              72              6          28.03   \n",
       "4       13               1             120              8          35.10   \n",
       "...    ...             ...             ...            ...            ...   \n",
       "11995    8               1             164              2         144.33   \n",
       "11996    8               0              71              2          42.58   \n",
       "11997    1               2              22              6           9.97   \n",
       "11998    4               2              38              3          31.47   \n",
       "11999    0               2              25              2          19.89   \n",
       "\n",
       "       gender_F  gender_M  gender_Other  location_City  location_Town  \n",
       "0             0         1             0              1              0  \n",
       "1             1         0             0              1              0  \n",
       "2             0         1             0              1              0  \n",
       "3             1         0             0              1              0  \n",
       "4             1         0             0              0              1  \n",
       "...         ...       ...           ...            ...            ...  \n",
       "11995         1         0             0              1              0  \n",
       "11996         1         0             0              1              0  \n",
       "11997         0         1             0              1              0  \n",
       "11998         1         0             0              1              0  \n",
       "11999         0         0             1              0              1  \n",
       "\n",
       "[12000 rows x 10 columns]"
      ]
     },
     "execution_count": 65,
     "metadata": {},
     "output_type": "execute_result"
    }
   ],
   "source": [
    "\n",
    "X = train_df.drop('label', axis=1)\n",
    "y = train_df['label']\n",
    "\n",
    "categorical_features = ['gender', 'location']\n",
    "X_encoded = pd.get_dummies(X, columns=categorical_features)\n",
    "\n",
    "label_encoder = LabelEncoder()\n",
    "X_encoded['age'] = label_encoder.fit_transform(X['age'])\n",
    "X_encoded['martial_status'] = label_encoder.fit_transform(X['martial_status'])\n",
    "\n",
    "X_encoded"
   ]
  },
  {
   "cell_type": "code",
   "execution_count": 66,
   "id": "ad206dec",
   "metadata": {},
   "outputs": [],
   "source": [
    "numeric_features = ['products_count', 'monthly_count', 'mean_spending']\n",
    "scaler = StandardScaler()\n",
    "X_encoded[numeric_features] = scaler.fit_transform(X[numeric_features])"
   ]
  },
  {
   "cell_type": "code",
   "execution_count": 67,
   "id": "2b657ed9",
   "metadata": {},
   "outputs": [
    {
     "data": {
      "text/plain": [
       "<AxesSubplot:xlabel='mean_spending', ylabel='Count'>"
      ]
     },
     "execution_count": 67,
     "metadata": {},
     "output_type": "execute_result"
    },
    {
     "data": {
      "image/png": "[encoded data removed]",
      "text/plain": [
       "<Figure size 432x288 with 1 Axes>"
      ]
     },
     "metadata": {
      "needs_background": "light"
     },
     "output_type": "display_data"
    }
   ],
   "source": [
    "sns.histplot(data=X_encoded,x='mean_spending')"
   ]
  },
  {
   "cell_type": "code",
   "execution_count": 69,
   "id": "019c135b",
   "metadata": {},
   "outputs": [
    {
     "name": "stdout",
     "output_type": "stream",
     "text": [
      "Model: Logistic Regression\n",
      "Best Hyperparameters: {'C': 10}\n",
      "F1-Score (macro) - CV: 0.6257\n",
      "F1-Score (macro) - Validation: 0.6337\n",
      "-------------------------------------------\n",
      "Model: Decision Tree\n",
      "Best Hyperparameters: {'max_depth': 10}\n",
      "F1-Score (macro) - CV: 0.8561\n",
      "F1-Score (macro) - Validation: 0.8676\n",
      "-------------------------------------------\n",
      "Model: Random Forest\n",
      "Best Hyperparameters: {'n_estimators': 300}\n",
      "F1-Score (macro) - CV: 0.8676\n",
      "F1-Score (macro) - Validation: 0.8859\n",
      "-------------------------------------------\n",
      "Model: Support Vector Machine\n",
      "Best Hyperparameters: {'C': 10, 'kernel': 'rbf'}\n",
      "F1-Score (macro) - CV: 0.7756\n",
      "F1-Score (macro) - Validation: 0.8033\n",
      "-------------------------------------------\n"
     ]
    }
   ],
   "source": [
    "from sklearn.metrics import classification_report\n",
    "\n",
    "\n",
    "X_train, X_test, y_train, y_test = train_test_split(X_encoded, y, test_size=0.2, random_state=42)\n",
    "\n",
    "\n",
    "models = [\n",
    "    ('Logistic Regression', LogisticRegression(max_iter=1000)),\n",
    "    ('Decision Tree', DecisionTreeClassifier()),\n",
    "    ('Random Forest', RandomForestClassifier()),\n",
    "    ('Support Vector Machine', SVC())\n",
    "]\n",
    "\n",
    "\n",
    "param_grid = {\n",
    "    'Logistic Regression': {'C': [0.1, 1, 10]},\n",
    "    'Decision Tree': {'max_depth': [None, 5, 10]},\n",
    "    'Random Forest': {'n_estimators': [100, 200, 300]},\n",
    "    'Support Vector Machine': {'C': [0.1, 1, 10], 'kernel': ['linear', 'rbf']}\n",
    "}\n",
    "\n",
    "best_model = None\n",
    "best_f1_macro = 0\n",
    "\n",
    "\n",
    "for name, model in models:\n",
    "\n",
    "    grid_search = GridSearchCV(model, param_grid[name], scoring='f1_macro', cv=5)\n",
    "    grid_search.fit(X_train, y_train)\n",
    "    \n",
    "\n",
    "    best_model_cv = grid_search.best_estimator_\n",
    "    f1_macro_cv = grid_search.best_score_\n",
    "    \n",
    "\n",
    "    y_pred = best_model_cv.predict(X_test)\n",
    "    f1_macro_val = classification_report(y_test, y_pred, output_dict=True)['macro avg']['f1-score']\n",
    "    \n",
    "\n",
    "    print(f\"Model: {name}\")\n",
    "    print(f\"Best Hyperparameters: {grid_search.best_params_}\")\n",
    "    print(f\"F1-Score (macro) - CV: {f1_macro_cv:.4f}\")\n",
    "    print(f\"F1-Score (macro) - Validation: {f1_macro_val:.4f}\")\n",
    "    print(\"-------------------------------------------\")\n",
    "    \n",
    "\n",
    "    if f1_macro_val > best_f1_macro:\n",
    "        best_model = best_model_cv\n",
    "        best_f1_macro = f1_macro_val"
   ]
  },
  {
   "cell_type": "code",
   "execution_count": 74,
   "id": "1f4633d6",
   "metadata": {},
   "outputs": [
    {
     "name": "stdout",
     "output_type": "stream",
     "text": [
      "Accuracy: 0.9200\n",
      "Precision: 0.8963\n",
      "Recall: 0.8830\n",
      "F1-score: 0.8859\n"
     ]
    }
   ],
   "source": [
    "from sklearn.metrics import accuracy_score, precision_score, recall_score, f1_score\n",
    "\n",
    "\n",
    "y_pred = best_model.predict(X_test)\n",
    "\n",
    "\n",
    "accuracy = accuracy_score(y_test, y_pred)\n",
    "precision = precision_score(y_test, y_pred, average='macro')\n",
    "recall = recall_score(y_test, y_pred, average='macro')\n",
    "f1 = f1_score(y_test, y_pred, average='macro')\n",
    "\n",
    "print(f\"Accuracy: {accuracy:.4f}\")\n",
    "print(f\"Precision: {precision:.4f}\")\n",
    "print(f\"Recall: {recall:.4f}\")\n",
    "print(f\"F1-score: {f1:.4f}\")\n"
   ]
  },
  {
   "cell_type": "code",
   "execution_count": 70,
   "id": "aeee1c9b",
   "metadata": {},
   "outputs": [
    {
     "data": {
      "text/html": [
       "<div>\n",
       "<style scoped>\n",
       "    .dataframe tbody tr th:only-of-type {\n",
       "        vertical-align: middle;\n",
       "    }\n",
       "\n",
       "    .dataframe tbody tr th {\n",
       "        vertical-align: top;\n",
       "    }\n",
       "\n",
       "    .dataframe thead th {\n",
       "        text-align: right;\n",
       "    }\n",
       "</style>\n",
       "<table border=\"1\" class=\"dataframe\">\n",
       "  <thead>\n",
       "    <tr style=\"text-align: right;\">\n",
       "      <th></th>\n",
       "      <th>gender</th>\n",
       "      <th>age</th>\n",
       "      <th>martial_status</th>\n",
       "      <th>location</th>\n",
       "      <th>products_count</th>\n",
       "      <th>monthly_count</th>\n",
       "      <th>mean_spending</th>\n",
       "    </tr>\n",
       "  </thead>\n",
       "  <tbody>\n",
       "    <tr>\n",
       "      <th>0</th>\n",
       "      <td>M</td>\n",
       "      <td>85-89</td>\n",
       "      <td>Divorced</td>\n",
       "      <td>City</td>\n",
       "      <td>47</td>\n",
       "      <td>7</td>\n",
       "      <td>15.85</td>\n",
       "    </tr>\n",
       "    <tr>\n",
       "      <th>1</th>\n",
       "      <td>F</td>\n",
       "      <td>70-74</td>\n",
       "      <td>Divorced</td>\n",
       "      <td>City</td>\n",
       "      <td>78</td>\n",
       "      <td>5</td>\n",
       "      <td>25.43</td>\n",
       "    </tr>\n",
       "    <tr>\n",
       "      <th>2</th>\n",
       "      <td>F</td>\n",
       "      <td>50-54</td>\n",
       "      <td>Married</td>\n",
       "      <td>City</td>\n",
       "      <td>72</td>\n",
       "      <td>2</td>\n",
       "      <td>154.67</td>\n",
       "    </tr>\n",
       "    <tr>\n",
       "      <th>3</th>\n",
       "      <td>F</td>\n",
       "      <td>50-54</td>\n",
       "      <td>Divorced</td>\n",
       "      <td>City</td>\n",
       "      <td>42</td>\n",
       "      <td>2</td>\n",
       "      <td>31.46</td>\n",
       "    </tr>\n",
       "    <tr>\n",
       "      <th>4</th>\n",
       "      <td>F</td>\n",
       "      <td>80-84</td>\n",
       "      <td>Divorced</td>\n",
       "      <td>Town</td>\n",
       "      <td>67</td>\n",
       "      <td>9</td>\n",
       "      <td>11.24</td>\n",
       "    </tr>\n",
       "  </tbody>\n",
       "</table>\n",
       "</div>"
      ],
      "text/plain": [
       "  gender    age martial_status location  products_count  monthly_count  \\\n",
       "0      M  85-89       Divorced     City              47              7   \n",
       "1      F  70-74       Divorced     City              78              5   \n",
       "2      F  50-54        Married     City              72              2   \n",
       "3      F  50-54       Divorced     City              42              2   \n",
       "4      F  80-84       Divorced     Town              67              9   \n",
       "\n",
       "   mean_spending  \n",
       "0          15.85  \n",
       "1          25.43  \n",
       "2         154.67  \n",
       "3          31.46  \n",
       "4          11.24  "
      ]
     },
     "execution_count": 70,
     "metadata": {},
     "output_type": "execute_result"
    }
   ],
   "source": [
    "test_df.head(5)"
   ]
  },
  {
   "cell_type": "code",
   "execution_count": 71,
   "id": "b892fca9",
   "metadata": {},
   "outputs": [
    {
     "data": {
      "text/html": [
       "<div>\n",
       "<style scoped>\n",
       "    .dataframe tbody tr th:only-of-type {\n",
       "        vertical-align: middle;\n",
       "    }\n",
       "\n",
       "    .dataframe tbody tr th {\n",
       "        vertical-align: top;\n",
       "    }\n",
       "\n",
       "    .dataframe thead th {\n",
       "        text-align: right;\n",
       "    }\n",
       "</style>\n",
       "<table border=\"1\" class=\"dataframe\">\n",
       "  <thead>\n",
       "    <tr style=\"text-align: right;\">\n",
       "      <th></th>\n",
       "      <th>age</th>\n",
       "      <th>martial_status</th>\n",
       "      <th>products_count</th>\n",
       "      <th>monthly_count</th>\n",
       "      <th>mean_spending</th>\n",
       "      <th>gender_F</th>\n",
       "      <th>gender_M</th>\n",
       "      <th>gender_Other</th>\n",
       "      <th>location_City</th>\n",
       "      <th>location_Town</th>\n",
       "    </tr>\n",
       "  </thead>\n",
       "  <tbody>\n",
       "    <tr>\n",
       "      <th>0</th>\n",
       "      <td>14</td>\n",
       "      <td>0</td>\n",
       "      <td>47</td>\n",
       "      <td>7</td>\n",
       "      <td>15.85</td>\n",
       "      <td>0</td>\n",
       "      <td>1</td>\n",
       "      <td>0</td>\n",
       "      <td>1</td>\n",
       "      <td>0</td>\n",
       "    </tr>\n",
       "    <tr>\n",
       "      <th>1</th>\n",
       "      <td>11</td>\n",
       "      <td>0</td>\n",
       "      <td>78</td>\n",
       "      <td>5</td>\n",
       "      <td>25.43</td>\n",
       "      <td>1</td>\n",
       "      <td>0</td>\n",
       "      <td>0</td>\n",
       "      <td>1</td>\n",
       "      <td>0</td>\n",
       "    </tr>\n",
       "    <tr>\n",
       "      <th>2</th>\n",
       "      <td>7</td>\n",
       "      <td>1</td>\n",
       "      <td>72</td>\n",
       "      <td>2</td>\n",
       "      <td>154.67</td>\n",
       "      <td>1</td>\n",
       "      <td>0</td>\n",
       "      <td>0</td>\n",
       "      <td>1</td>\n",
       "      <td>0</td>\n",
       "    </tr>\n",
       "    <tr>\n",
       "      <th>3</th>\n",
       "      <td>7</td>\n",
       "      <td>0</td>\n",
       "      <td>42</td>\n",
       "      <td>2</td>\n",
       "      <td>31.46</td>\n",
       "      <td>1</td>\n",
       "      <td>0</td>\n",
       "      <td>0</td>\n",
       "      <td>1</td>\n",
       "      <td>0</td>\n",
       "    </tr>\n",
       "    <tr>\n",
       "      <th>4</th>\n",
       "      <td>13</td>\n",
       "      <td>0</td>\n",
       "      <td>67</td>\n",
       "      <td>9</td>\n",
       "      <td>11.24</td>\n",
       "      <td>1</td>\n",
       "      <td>0</td>\n",
       "      <td>0</td>\n",
       "      <td>0</td>\n",
       "      <td>1</td>\n",
       "    </tr>\n",
       "    <tr>\n",
       "      <th>...</th>\n",
       "      <td>...</td>\n",
       "      <td>...</td>\n",
       "      <td>...</td>\n",
       "      <td>...</td>\n",
       "      <td>...</td>\n",
       "      <td>...</td>\n",
       "      <td>...</td>\n",
       "      <td>...</td>\n",
       "      <td>...</td>\n",
       "      <td>...</td>\n",
       "    </tr>\n",
       "    <tr>\n",
       "      <th>2995</th>\n",
       "      <td>6</td>\n",
       "      <td>1</td>\n",
       "      <td>285</td>\n",
       "      <td>13</td>\n",
       "      <td>36.53</td>\n",
       "      <td>1</td>\n",
       "      <td>0</td>\n",
       "      <td>0</td>\n",
       "      <td>1</td>\n",
       "      <td>0</td>\n",
       "    </tr>\n",
       "    <tr>\n",
       "      <th>2996</th>\n",
       "      <td>6</td>\n",
       "      <td>1</td>\n",
       "      <td>199</td>\n",
       "      <td>5</td>\n",
       "      <td>64.73</td>\n",
       "      <td>0</td>\n",
       "      <td>1</td>\n",
       "      <td>0</td>\n",
       "      <td>1</td>\n",
       "      <td>0</td>\n",
       "    </tr>\n",
       "    <tr>\n",
       "      <th>2997</th>\n",
       "      <td>4</td>\n",
       "      <td>1</td>\n",
       "      <td>240</td>\n",
       "      <td>6</td>\n",
       "      <td>78.21</td>\n",
       "      <td>0</td>\n",
       "      <td>1</td>\n",
       "      <td>0</td>\n",
       "      <td>0</td>\n",
       "      <td>1</td>\n",
       "    </tr>\n",
       "    <tr>\n",
       "      <th>2998</th>\n",
       "      <td>7</td>\n",
       "      <td>1</td>\n",
       "      <td>165</td>\n",
       "      <td>3</td>\n",
       "      <td>121.89</td>\n",
       "      <td>0</td>\n",
       "      <td>1</td>\n",
       "      <td>0</td>\n",
       "      <td>1</td>\n",
       "      <td>0</td>\n",
       "    </tr>\n",
       "    <tr>\n",
       "      <th>2999</th>\n",
       "      <td>13</td>\n",
       "      <td>1</td>\n",
       "      <td>82</td>\n",
       "      <td>14</td>\n",
       "      <td>11.75</td>\n",
       "      <td>1</td>\n",
       "      <td>0</td>\n",
       "      <td>0</td>\n",
       "      <td>1</td>\n",
       "      <td>0</td>\n",
       "    </tr>\n",
       "  </tbody>\n",
       "</table>\n",
       "<p>3000 rows × 10 columns</p>\n",
       "</div>"
      ],
      "text/plain": [
       "      age  martial_status  products_count  monthly_count  mean_spending  \\\n",
       "0      14               0              47              7          15.85   \n",
       "1      11               0              78              5          25.43   \n",
       "2       7               1              72              2         154.67   \n",
       "3       7               0              42              2          31.46   \n",
       "4      13               0              67              9          11.24   \n",
       "...   ...             ...             ...            ...            ...   \n",
       "2995    6               1             285             13          36.53   \n",
       "2996    6               1             199              5          64.73   \n",
       "2997    4               1             240              6          78.21   \n",
       "2998    7               1             165              3         121.89   \n",
       "2999   13               1              82             14          11.75   \n",
       "\n",
       "      gender_F  gender_M  gender_Other  location_City  location_Town  \n",
       "0            0         1             0              1              0  \n",
       "1            1         0             0              1              0  \n",
       "2            1         0             0              1              0  \n",
       "3            1         0             0              1              0  \n",
       "4            1         0             0              0              1  \n",
       "...        ...       ...           ...            ...            ...  \n",
       "2995         1         0             0              1              0  \n",
       "2996         0         1             0              1              0  \n",
       "2997         0         1             0              0              1  \n",
       "2998         0         1             0              1              0  \n",
       "2999         1         0             0              1              0  \n",
       "\n",
       "[3000 rows x 10 columns]"
      ]
     },
     "execution_count": 71,
     "metadata": {},
     "output_type": "execute_result"
    }
   ],
   "source": [
    "categorical_features = ['gender', 'location']\n",
    "test_encoded = pd.get_dummies(test_df, columns=categorical_features)\n",
    "\n",
    "label_encoder = LabelEncoder()\n",
    "test_encoded['age'] = label_encoder.fit_transform(test_df['age'])\n",
    "test_encoded['martial_status'] = label_encoder.fit_transform(test_df['martial_status'])\n",
    "\n",
    "test_encoded"
   ]
  },
  {
   "cell_type": "code",
   "execution_count": 76,
   "id": "4f7c44fd",
   "metadata": {},
   "outputs": [],
   "source": [
    "y_pred = best_model.predict(test_encoded)"
   ]
  },
  {
   "cell_type": "code",
   "execution_count": 102,
   "id": "b2e0645d",
   "metadata": {},
   "outputs": [],
   "source": [
    "import json\n",
    "predictions_dict = {\"target\": {}}\n",
    "\n",
    "\n",
    "for i, pred in enumerate(y_pred):\n",
    "    predictions_dict[\"target\"][str(i)] = int(pred)\n",
    "\n",
    "predictions_json = json.dumps(predictions_dict)\n",
    "\n",
    "with open('predictions.json', 'w') as f:\n",
    "    f.write(predictions_json)"
   ]
  },
  {
   "cell_type": "code",
   "execution_count": null,
   "id": "4c67a166",
   "metadata": {},
   "outputs": [],
   "source": []
  }
 ],
 "metadata": {
  "kernelspec": {
   "display_name": "Python 3 (ipykernel)",
   "language": "python",
   "name": "python3"
  },
  "language_info": {
   "codemirror_mode": {
    "name": "ipython",
    "version": 3
   },
   "file_extension": ".py",
   "mimetype": "text/x-python",
   "name": "python",
   "nbconvert_exporter": "python",
   "pygments_lexer": "ipython3",
   "version": "3.9.12"
  }
 },
 "nbformat": 4,
 "nbformat_minor": 5
}
